{
 "cells": [
  {
   "cell_type": "markdown",
   "metadata": {},
   "source": [
    "# Batch Processing with ScienceBasePy\n",
    "## Open a session\n",
    "Import SbSession and login to ScienceBase."
   ]
  },
  {
   "cell_type": "code",
   "execution_count": 1,
   "metadata": {},
   "outputs": [
    {
     "name": "stdout",
     "output_type": "stream",
     "text": [
      "········\n"
     ]
    }
   ],
   "source": [
    "from sciencebasepy import SbSession\n",
    "# loginc prompts for a password\n",
    "sb = SbSession(\"beta\").loginc(\"jllong@usgs.gov\")"
   ]
  },
  {
   "cell_type": "markdown",
   "metadata": {},
   "source": [
    "## Create Multiple Items\n",
    "First, stage up the JSON for a few items."
   ]
  },
  {
   "cell_type": "code",
   "execution_count": 2,
   "metadata": {},
   "outputs": [
    {
     "name": "stdout",
     "output_type": "stream",
     "text": [
      "[{'parentId': '4f4eb916e4b0c2aeb78a9e04', 'title': 'Test item one'}, {'parentId': '4f4eb916e4b0c2aeb78a9e04', 'title': 'Test item two'}, {'parentId': '4f4eb916e4b0c2aeb78a9e04', 'title': 'Test item three'}]\n"
     ]
    }
   ],
   "source": [
    "# Save the items to My Items\n",
    "myitems_id = sb.get_my_items_id()\n",
    "items = []\n",
    "items.append({'parentId': myitems_id, 'title':'Test item one'})\n",
    "items.append({'parentId': myitems_id, 'title':'Test item two'})\n",
    "items.append({'parentId': myitems_id, 'title':'Test item three'})\n",
    "print(items)"
   ]
  },
  {
   "cell_type": "markdown",
   "metadata": {},
   "source": [
    "Next, create the three items in a single call to ScienceBase."
   ]
  },
  {
   "cell_type": "code",
   "execution_count": 3,
   "metadata": {},
   "outputs": [
    {
     "name": "stdout",
     "output_type": "stream",
     "text": [
      "[{'link': {'rel': 'self', 'url': 'https://beta.sciencebase.gov/catalog/item/5b3154bfe4b0ed5956619c47'}, 'relatedItems': {'link': {'url': 'https://beta.sciencebase.gov/catalog/itemLinks?itemId=5b3154bfe4b0ed5956619c47', 'rel': 'related'}}, 'id': '5b3154bfe4b0ed5956619c47', 'title': 'Test item one', 'provenance': {'dateCreated': '2018-06-25T20:46:55Z', 'lastUpdated': '2018-06-25T20:46:55Z', 'lastUpdatedBy': 'jllong@usgs.gov', 'createdBy': 'jllong@usgs.gov'}, 'hasChildren': False, 'parentId': '4f4eb916e4b0c2aeb78a9e04', 'permissions': {'read': {'acl': ['USER:jllong@usgs.gov'], 'inherited': True, 'inheritsFromId': '4f4eb916e4b0c2aeb78a9e04'}, 'write': {'acl': ['USER:jllong@usgs.gov'], 'inherited': True, 'inheritsFromId': '4f4eb916e4b0c2aeb78a9e04'}}, 'distributionLinks': [], 'locked': False}, {'link': {'rel': 'self', 'url': 'https://beta.sciencebase.gov/catalog/item/5b3154bfe4b0ed5956619c4a'}, 'relatedItems': {'link': {'url': 'https://beta.sciencebase.gov/catalog/itemLinks?itemId=5b3154bfe4b0ed5956619c4a', 'rel': 'related'}}, 'id': '5b3154bfe4b0ed5956619c4a', 'title': 'Test item two', 'provenance': {'dateCreated': '2018-06-25T20:46:55Z', 'lastUpdated': '2018-06-25T20:46:55Z', 'lastUpdatedBy': 'jllong@usgs.gov', 'createdBy': 'jllong@usgs.gov'}, 'hasChildren': False, 'parentId': '4f4eb916e4b0c2aeb78a9e04', 'permissions': {'read': {'acl': ['USER:jllong@usgs.gov'], 'inherited': True, 'inheritsFromId': '4f4eb916e4b0c2aeb78a9e04'}, 'write': {'acl': ['USER:jllong@usgs.gov'], 'inherited': True, 'inheritsFromId': '4f4eb916e4b0c2aeb78a9e04'}}, 'distributionLinks': [], 'locked': False}, {'link': {'rel': 'self', 'url': 'https://beta.sciencebase.gov/catalog/item/5b3154bfe4b0ed5956619c4d'}, 'relatedItems': {'link': {'url': 'https://beta.sciencebase.gov/catalog/itemLinks?itemId=5b3154bfe4b0ed5956619c4d', 'rel': 'related'}}, 'id': '5b3154bfe4b0ed5956619c4d', 'title': 'Test item three', 'provenance': {'dateCreated': '2018-06-25T20:46:55Z', 'lastUpdated': '2018-06-25T20:46:55Z', 'lastUpdatedBy': 'jllong@usgs.gov', 'createdBy': 'jllong@usgs.gov'}, 'hasChildren': False, 'parentId': '4f4eb916e4b0c2aeb78a9e04', 'permissions': {'read': {'acl': ['USER:jllong@usgs.gov'], 'inherited': True, 'inheritsFromId': '4f4eb916e4b0c2aeb78a9e04'}, 'write': {'acl': ['USER:jllong@usgs.gov'], 'inherited': True, 'inheritsFromId': '4f4eb916e4b0c2aeb78a9e04'}}, 'distributionLinks': [], 'locked': False}]\n"
     ]
    }
   ],
   "source": [
    "new_items = sb.create_items(items)\n",
    "print(new_items)"
   ]
  },
  {
   "cell_type": "markdown",
   "metadata": {},
   "source": [
    "## Modify Multiple Items\n",
    "Modify the JSON for our items."
   ]
  },
  {
   "cell_type": "code",
   "execution_count": 4,
   "metadata": {},
   "outputs": [
    {
     "name": "stdout",
     "output_type": "stream",
     "text": [
      "[{'link': {'rel': 'self', 'url': 'https://beta.sciencebase.gov/catalog/item/5b3154bfe4b0ed5956619c47'}, 'relatedItems': {'link': {'url': 'https://beta.sciencebase.gov/catalog/itemLinks?itemId=5b3154bfe4b0ed5956619c47', 'rel': 'related'}}, 'id': '5b3154bfe4b0ed5956619c47', 'title': 'Test item one', 'provenance': {'dateCreated': '2018-06-25T20:46:55Z', 'lastUpdated': '2018-06-25T20:46:55Z', 'lastUpdatedBy': 'jllong@usgs.gov', 'createdBy': 'jllong@usgs.gov'}, 'hasChildren': False, 'parentId': '4f4eb916e4b0c2aeb78a9e04', 'tags': [{'type': 'Label', 'name': ' U.S. Geological Survey'}], 'permissions': {'read': {'acl': ['USER:jllong@usgs.gov'], 'inherited': True, 'inheritsFromId': '4f4eb916e4b0c2aeb78a9e04'}, 'write': {'acl': ['USER:jllong@usgs.gov'], 'inherited': True, 'inheritsFromId': '4f4eb916e4b0c2aeb78a9e04'}}, 'distributionLinks': [], 'locked': False}, {'link': {'rel': 'self', 'url': 'https://beta.sciencebase.gov/catalog/item/5b3154bfe4b0ed5956619c4a'}, 'relatedItems': {'link': {'url': 'https://beta.sciencebase.gov/catalog/itemLinks?itemId=5b3154bfe4b0ed5956619c4a', 'rel': 'related'}}, 'id': '5b3154bfe4b0ed5956619c4a', 'title': 'Test item two', 'provenance': {'dateCreated': '2018-06-25T20:46:55Z', 'lastUpdated': '2018-06-25T20:46:55Z', 'lastUpdatedBy': 'jllong@usgs.gov', 'createdBy': 'jllong@usgs.gov'}, 'hasChildren': False, 'parentId': '4f4eb916e4b0c2aeb78a9e04', 'tags': [{'type': 'Label', 'name': ' U.S. Geological Survey'}], 'permissions': {'read': {'acl': ['USER:jllong@usgs.gov'], 'inherited': True, 'inheritsFromId': '4f4eb916e4b0c2aeb78a9e04'}, 'write': {'acl': ['USER:jllong@usgs.gov'], 'inherited': True, 'inheritsFromId': '4f4eb916e4b0c2aeb78a9e04'}}, 'distributionLinks': [], 'locked': False}, {'link': {'rel': 'self', 'url': 'https://beta.sciencebase.gov/catalog/item/5b3154bfe4b0ed5956619c4d'}, 'relatedItems': {'link': {'url': 'https://beta.sciencebase.gov/catalog/itemLinks?itemId=5b3154bfe4b0ed5956619c4d', 'rel': 'related'}}, 'id': '5b3154bfe4b0ed5956619c4d', 'title': 'Test item three', 'provenance': {'dateCreated': '2018-06-25T20:46:55Z', 'lastUpdated': '2018-06-25T20:46:55Z', 'lastUpdatedBy': 'jllong@usgs.gov', 'createdBy': 'jllong@usgs.gov'}, 'hasChildren': False, 'parentId': '4f4eb916e4b0c2aeb78a9e04', 'tags': [{'type': 'Label', 'name': ' U.S. Geological Survey'}], 'permissions': {'read': {'acl': ['USER:jllong@usgs.gov'], 'inherited': True, 'inheritsFromId': '4f4eb916e4b0c2aeb78a9e04'}, 'write': {'acl': ['USER:jllong@usgs.gov'], 'inherited': True, 'inheritsFromId': '4f4eb916e4b0c2aeb78a9e04'}}, 'distributionLinks': [], 'locked': False}]\n"
     ]
    }
   ],
   "source": [
    "# Add a tag to each item\n",
    "for item in new_items:\n",
    "    item[\"tags\"] = [{\n",
    "        \"type\": \"Label\",\n",
    "        \"name\": \" U.S. Geological Survey\"\n",
    "    }]\n",
    "new_items = sb.update_items(new_items)\n",
    "print(new_items)"
   ]
  },
  {
   "cell_type": "markdown",
   "metadata": {},
   "source": [
    "## Delete Multiple Items\n",
    "Now delete them all in a single call. **Note:** Items are deleted in the order they are found in the list. If you are deleting a hierarchy of items, the items with no children should appear first, followed by their parent items, and so on."
   ]
  },
  {
   "cell_type": "code",
   "execution_count": 5,
   "metadata": {},
   "outputs": [
    {
     "data": {
      "text/plain": [
       "True"
      ]
     },
     "execution_count": 5,
     "metadata": {},
     "output_type": "execute_result"
    }
   ],
   "source": [
    "ids = []\n",
    "for item in new_items:\n",
    "    ids.append(item[\"id\"])\n",
    "sb.delete_items(ids)"
   ]
  }
 ],
 "metadata": {
  "kernelspec": {
   "display_name": "Python 3",
   "language": "python",
   "name": "python3"
  },
  "language_info": {
   "codemirror_mode": {
    "name": "ipython",
    "version": 3
   },
   "file_extension": ".py",
   "mimetype": "text/x-python",
   "name": "python",
   "nbconvert_exporter": "python",
   "pygments_lexer": "ipython3",
   "version": "3.6.4"
  }
 },
 "nbformat": 4,
 "nbformat_minor": 2
}
